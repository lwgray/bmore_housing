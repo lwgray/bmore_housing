{
 "cells": [
  {
   "cell_type": "code",
   "execution_count": 1,
   "metadata": {
    "collapsed": true
   },
   "outputs": [],
   "source": [
    "import pandas as pd"
   ]
  },
  {
   "cell_type": "code",
   "execution_count": 2,
   "metadata": {
    "collapsed": true
   },
   "outputs": [],
   "source": [
    "# rp = real_property\n",
    "rp = pd.read_csv('baltimore_real_property.csv', low_memory=False)"
   ]
  },
  {
   "cell_type": "code",
   "execution_count": 3,
   "metadata": {
    "collapsed": true
   },
   "outputs": [],
   "source": [
    "# Drop columns because they contain repeatative data or weblinks\n",
    "rp1 = rp.drop(rp[['OBJECTID', 'PIN', 'PINRELATE', 'BLOCKLOT', 'SDATLINK', 'BLOCKPLAT']], axis=1)\n",
    "\n",
    "# Drop ASSESSOR Rows that lack a assessor number\n",
    "rp2 = rp1.drop(rp1[rp1.ASSESSOR.str.contains(' ') == True].index)"
   ]
  },
  {
   "cell_type": "code",
   "execution_count": 4,
   "metadata": {},
   "outputs": [],
   "source": [
    "# I am working on figuring out how to convert lot size to a numeric\n",
    "# I think lot size would be an import variable.\n",
    "# I think I have to split the strings and convert values to square feet\n",
    "# rp2['LOT_SIZE'].unique()"
   ]
  }
 ],
 "metadata": {
  "kernelspec": {
   "display_name": "Python 2",
   "language": "python",
   "name": "python2"
  },
  "language_info": {
   "codemirror_mode": {
    "name": "ipython",
    "version": 2
   },
   "file_extension": ".py",
   "mimetype": "text/x-python",
   "name": "python",
   "nbconvert_exporter": "python",
   "pygments_lexer": "ipython2",
   "version": "2.7.13"
  }
 },
 "nbformat": 4,
 "nbformat_minor": 2
}
